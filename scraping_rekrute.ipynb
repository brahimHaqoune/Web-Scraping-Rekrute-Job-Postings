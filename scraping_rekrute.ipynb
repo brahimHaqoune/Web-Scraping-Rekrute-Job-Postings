{
  "cells": [
    {
      "cell_type": "code",
      "execution_count": null,
      "metadata": {
        "id": "KLzUdpiQwpUn"
      },
      "outputs": [],
      "source": [
        "import csv\n",
        "from datetime import datetime\n",
        "import requests\n",
        "from bs4 import BeautifulSoup\n",
        "import pandas as pd"
      ]
    },
    {
      "cell_type": "code",
      "execution_count": null,
      "metadata": {
        "id": "8_96YtP3wsko"
      },
      "outputs": [],
      "source": [
        "url = 'https://www.rekrute.com/offres-emploi-maroc.html'"
      ]
    },
    {
      "cell_type": "code",
      "execution_count": null,
      "metadata": {
        "id": "17Ugs-uQw3vg"
      },
      "outputs": [],
      "source": [
        "response = requests.get(url)\n",
        "soup1 = BeautifulSoup(response.text, 'html.parser')\n",
        "cards = soup1.find_all('li', 'post-id')"
      ]
    },
    {
      "cell_type": "markdown",
      "metadata": {
        "id": "_jKbF7MczVwk"
      },
      "source": [
        "Prototype the model with a single record"
      ]
    },
    {
      "cell_type": "code",
      "execution_count": null,
      "metadata": {
        "id": "Dc7zSExSzX4f"
      },
      "outputs": [],
      "source": [
        "card = cards[0] "
      ]
    },
    {
      "cell_type": "code",
      "execution_count": null,
      "metadata": {
        "id": "Rbc21Vzsztja"
      },
      "outputs": [],
      "source": [
        "job_title = card.h2.a.text.strip()"
      ]
    },
    {
      "cell_type": "code",
      "execution_count": null,
      "metadata": {
        "id": "dImgKnbN1OOx"
      },
      "outputs": [],
      "source": [
        "job_url = card.h2.a\n",
        "job_url = 'https://www.rekrute.com' + job_url.get('href')"
      ]
    },
    {
      "cell_type": "code",
      "execution_count": null,
      "metadata": {
        "id": "gW0-ULSF2WCS"
      },
      "outputs": [],
      "source": [
        "response = requests.get(job_url)\n",
        "soup2 = BeautifulSoup(response.text, 'html.parser')\n",
        "cards2 = soup2.find_all('div', 'col-md-10 col-sm-12 col-xs-12')"
      ]
    },
    {
      "cell_type": "code",
      "execution_count": null,
      "metadata": {
        "id": "-gMEnxJX2z-y"
      },
      "outputs": [],
      "source": [
        "job_infos = cards2[0].find_all('li')"
      ]
    },
    {
      "cell_type": "code",
      "execution_count": null,
      "metadata": {
        "id": "hcOrCpBO6lTU"
      },
      "outputs": [],
      "source": [
        "job_loc = job_infos[1].text.strip()"
      ]
    },
    {
      "cell_type": "code",
      "execution_count": null,
      "metadata": {
        "id": "f84W75Fh6vWf"
      },
      "outputs": [],
      "source": [
        "study_level = job_infos[2].text.strip()"
      ]
    },
    {
      "cell_type": "code",
      "execution_count": null,
      "metadata": {
        "id": "utX2l-I57EZJ"
      },
      "outputs": [],
      "source": [
        "all_skills = cards2[0].find_all('span','tagSkills')"
      ]
    },
    {
      "cell_type": "code",
      "execution_count": null,
      "metadata": {
        "id": "3MaO-fu47yJZ"
      },
      "outputs": [],
      "source": [
        "skills = ''\n",
        "for i in range(len(all_skills)):\n",
        "  skills = all_skills[i].text.strip() + ', ' + skills"
      ]
    },
    {
      "cell_type": "code",
      "execution_count": null,
      "metadata": {
        "id": "JOUBgQ6m-cAy"
      },
      "outputs": [],
      "source": [
        "cards3 = soup1.find_all('div','col-md-12 blc')"
      ]
    },
    {
      "cell_type": "code",
      "execution_count": null,
      "metadata": {
        "id": "EAc9tcqJAj-k"
      },
      "outputs": [],
      "source": [
        "business = cards3[1].text.strip()\n",
        "job = cards3[2].text.strip()\n",
        "profile = cards3[3].text.strip()\n",
        "adress = cards3[4].text.strip()"
      ]
    },
    {
      "cell_type": "code",
      "execution_count": null,
      "metadata": {
        "id": "oOMXhZJszviX"
      },
      "outputs": [],
      "source": [
        "company = card.a.img.get('title')"
      ]
    },
    {
      "cell_type": "code",
      "execution_count": null,
      "metadata": {
        "id": "tcBe5VBo3Zeu"
      },
      "outputs": [],
      "source": [
        "infos = card.find_all('div', 'info')"
      ]
    },
    {
      "cell_type": "code",
      "execution_count": null,
      "metadata": {
        "id": "cqQJa1qL1SxY"
      },
      "outputs": [],
      "source": [
        "# company_info = infos[0].span.text.strip()"
      ]
    },
    {
      "cell_type": "code",
      "execution_count": null,
      "metadata": {
        "id": "4zSD7uzK2zyh"
      },
      "outputs": [],
      "source": [
        "# job_tasks = infos[1].span.text.strip()"
      ]
    },
    {
      "cell_type": "code",
      "execution_count": null,
      "metadata": {
        "id": "lib7teot1t5H"
      },
      "outputs": [],
      "source": [
        "post_date = card.em.span.text"
      ]
    },
    {
      "cell_type": "code",
      "execution_count": null,
      "metadata": {
        "id": "JelNagbbBTDe"
      },
      "outputs": [],
      "source": [
        "sub_infos = infos[2].find_all('li')"
      ]
    },
    {
      "cell_type": "code",
      "execution_count": null,
      "metadata": {
        "id": "m4y2-NAv5e9m"
      },
      "outputs": [],
      "source": [
        "sectors = sub_infos[0].text.strip()"
      ]
    },
    {
      "cell_type": "code",
      "execution_count": null,
      "metadata": {
        "id": "2LYQgHxs_ojp"
      },
      "outputs": [],
      "source": [
        "functions = sub_infos[1].find_all('a')\n",
        "function = functions[0].text.strip() + functions[1].text.strip()"
      ]
    },
    {
      "cell_type": "code",
      "execution_count": null,
      "metadata": {
        "id": "mAWk_IqrC7IK"
      },
      "outputs": [],
      "source": [
        "experience = sub_infos[2].a.text.strip()"
      ]
    },
    {
      "cell_type": "code",
      "execution_count": null,
      "metadata": {
        "id": "3a6AdKiBCqb-"
      },
      "outputs": [],
      "source": [
        "# study_level = sub_infos[3].a.text.strip()"
      ]
    },
    {
      "cell_type": "code",
      "execution_count": null,
      "metadata": {
        "id": "_C3Xi46OCy6F"
      },
      "outputs": [],
      "source": [
        "contract_type = sub_infos[4].a.text.strip()"
      ]
    },
    {
      "cell_type": "code",
      "execution_count": null,
      "metadata": {
        "id": "jdeEt4314jrc"
      },
      "outputs": [],
      "source": [
        "record = (job_title, company, job_loc, business, job, profile, adress, post_date, skills, sectors, function, experience, study_level, contract_type)"
      ]
    },
    {
      "cell_type": "code",
      "execution_count": null,
      "metadata": {
        "colab": {
          "base_uri": "https://localhost:8080/"
        },
        "id": "VX2oPKT94kF_",
        "outputId": "bb60c4a9-5699-4198-e0f7-1a25b12316f1"
      },
      "outputs": [
        {
          "output_type": "execute_result",
          "data": {
            "text/plain": [
              "('Responsable Ressources Humaines Anglophone  (H/F) | Casablanca (Maroc)',\n",
              " 'GO RH Maroc',\n",
              " 'Casablanca et région                                     - Maroc',\n",
              " \"Entreprise :\\n\\n\\tNous sommes un cabinet spécialisé en ressources humaines pour les start-ups et les entreprises, nous accompagnons nos clients en Recrutement, Executive search, RPO et Conseil au Maroc et à l’international.\\n\\n\\n\\tNos consultants construisent, avec les décideurs et leurs collaborateurs, des projets entièrement adaptés à leurs problématiques et aux contextes.\\n\\n\\n\\tNous savons, de par nos différentes expertises métiers et marchés, que chaque environnement et chaque culture sont confrontés à des leviers stratégiques et opérationnels spécifiques qui varient fréquemment avec les cycles d’activité, et que les salariés, en particulier les cadres et les dirigeants, doivent régulièrement en être porteurs.\\n\\n\\tnous recrutons pour notre client, un mastodon du BTP à l'échelle Internationale , un Responsable Ressources Humaines anglophone (H/F)\",\n",
              " \"Poste :\\n\\n\\tRattaché (e) au directeur général, vous serez en charge de :\\n\\n\\n\\t\\tGérer le plan de recrutement annuel,\\n\\n\\t\\tGérer les dossiers des expatriés\\xa0\\n\\n\\t\\tConseiller et accompagner les opérationnels sur tous les domaines des RH.\\n\\n\\t\\tCoordonner l'ensemble des activités liées aux projets RH.\\xa0\\n\\n\\t\\tSuperviser l’administration de la paie et la gestion du personnel\\xa0\\n\\n\\t\\tAssurer un reporting RH\\xa0\\n\\n\\t\\tGérer l'ensemble des projets relatif à la marque employeur\",\n",
              " \"Profil recherché :\\n\\n\\tDiplômé (e) d'une formation supérieure Bac +5 minimum (école de commerce, université) avec une spécialisation en RH, vous justifiez d'au moins 5 ans d'expérience en tant que RRH,\\xa0\\n\\n\\tVous avez travaillé idéalement dans le secteur BTP / industriel avec une expérience obligatoire en gestion de dossiers d'expatriés. Votre capacité d'adaptation vous permet d'évoluer dans un environnement challengeant et en transformation.\\n\\n\\tDoté (e) \\xa0d'un bon esprit d'analyse et de synthèse, vous êtes organisé (e), rigoureux dans votre approche et êtes doté(es) d'une aisance relationnelle.\\n\\nLa maitrise de l'anglais est obligatoire.\",\n",
              " \"Adresse :\\n131 boulevard d'anfa, Résidence Azur, bureau 11B\",\n",
              " '30/12/2021',\n",
              " \"Recherche de nouveauté, Implication au travail, Besoin d'autonomie, Extraversion, Besoin d'objectivité, \",\n",
              " \"Secteur d'activité : BTP / Génie Civil\",\n",
              " 'RH / Personnel / FormationRH / Personnel / Formation',\n",
              " 'De 5 à 10 ans',\n",
              " 'Bac +5 et plus',\n",
              " 'CDI')"
            ]
          },
          "metadata": {},
          "execution_count": 64
        }
      ],
      "source": [
        "record"
      ]
    },
    {
      "cell_type": "markdown",
      "metadata": {
        "id": "IGyD_-CIEg0R"
      },
      "source": [
        "Generalize the model with a function"
      ]
    },
    {
      "cell_type": "code",
      "execution_count": null,
      "metadata": {
        "id": "gK8DzP2wEVed"
      },
      "outputs": [],
      "source": [
        "def get_record(card):\n",
        "    \"\"\"Extract job data from a single record\"\"\"\n",
        "    job_url = card.h2.a\n",
        "    job_url = 'https://www.rekrute.com' + job_url.get('href')\n",
        "\n",
        "    response = requests.get(job_url)\n",
        "    soup = BeautifulSoup(response.text, 'html.parser')\n",
        "    cards2 = soup.find_all('div', 'col-md-10 col-sm-12 col-xs-12')    \n",
        "    job_title = card.h2.a.text.strip()\n",
        "    try:\n",
        "      company = card.a.img.get('title')\n",
        "    except:\n",
        "      company = ' '\n",
        "    if len(cards2)==0:\n",
        "        return '' \n",
        "           \n",
        "    job_loc = job_infos[1].text.strip()\n",
        "    study_level = job_infos[2].text.strip()\n",
        "\n",
        "    all_skills = cards2[0].find_all('span','tagSkills')\n",
        "\n",
        "    skills = ''\n",
        "    for i in range(len(all_skills)):\n",
        "      skills = all_skills[i].text.strip() + ', ' + skills\n",
        "\n",
        "    cards3 = soup.find_all('div','col-md-12 blc')\n",
        "    business = cards3[1].text.strip()\n",
        "    job = cards3[2].text.strip()\n",
        "    profile = cards3[3].text.strip()\n",
        "    adress = cards3[4].text.strip()\n",
        "\n",
        "    infos = card.find_all('div', 'info')\n",
        "    sub_infos = infos[2].find_all('li')\n",
        "    sectors = sub_infos[0].text.strip()\n",
        "    functions = sub_infos[1].find_all('a')\n",
        "    function = functions[0].text.strip() + functions[1].text.strip()\n",
        "    \n",
        "    post_date = card.em.span.text\n",
        "\n",
        "    experience = sub_infos[2].a.text.strip()\n",
        "\n",
        "    contract_type = sub_infos[4].a.text.strip()\n",
        "\n",
        "    record = (job_title, company, job_loc, business, job, profile, adress, post_date, skills, sectors, function, experience, study_level, contract_type)\n",
        "    return record"
      ]
    },
    {
      "cell_type": "code",
      "execution_count": null,
      "metadata": {
        "colab": {
          "base_uri": "https://localhost:8080/"
        },
        "id": "Q9l_nhR0FWyM",
        "outputId": "85756b1e-2e16-4851-be5d-9295dc2f9bf6"
      },
      "outputs": [
        {
          "output_type": "execute_result",
          "data": {
            "text/plain": [
              "('Responsable Ressources Humaines Anglophone  (H/F) | Casablanca (Maroc)',\n",
              " 'GO RH Maroc',\n",
              " 'Casablanca et région                                     - Maroc',\n",
              " \"Entreprise :\\n\\n\\tNous sommes un cabinet spécialisé en ressources humaines pour les start-ups et les entreprises, nous accompagnons nos clients en Recrutement, Executive search, RPO et Conseil au Maroc et à l’international.\\n\\n\\n\\tNos consultants construisent, avec les décideurs et leurs collaborateurs, des projets entièrement adaptés à leurs problématiques et aux contextes.\\n\\n\\n\\tNous savons, de par nos différentes expertises métiers et marchés, que chaque environnement et chaque culture sont confrontés à des leviers stratégiques et opérationnels spécifiques qui varient fréquemment avec les cycles d’activité, et que les salariés, en particulier les cadres et les dirigeants, doivent régulièrement en être porteurs.\\n\\n\\tnous recrutons pour notre client, un mastodon du BTP à l'échelle Internationale , un Responsable Ressources Humaines anglophone (H/F)\",\n",
              " \"Poste :\\n\\n\\tRattaché (e) au directeur général, vous serez en charge de :\\n\\n\\n\\t\\tGérer le plan de recrutement annuel,\\n\\n\\t\\tGérer les dossiers des expatriés\\xa0\\n\\n\\t\\tConseiller et accompagner les opérationnels sur tous les domaines des RH.\\n\\n\\t\\tCoordonner l'ensemble des activités liées aux projets RH.\\xa0\\n\\n\\t\\tSuperviser l’administration de la paie et la gestion du personnel\\xa0\\n\\n\\t\\tAssurer un reporting RH\\xa0\\n\\n\\t\\tGérer l'ensemble des projets relatif à la marque employeur\",\n",
              " \"Profil recherché :\\n\\n\\tDiplômé (e) d'une formation supérieure Bac +5 minimum (école de commerce, université) avec une spécialisation en RH, vous justifiez d'au moins 5 ans d'expérience en tant que RRH,\\xa0\\n\\n\\tVous avez travaillé idéalement dans le secteur BTP / industriel avec une expérience obligatoire en gestion de dossiers d'expatriés. Votre capacité d'adaptation vous permet d'évoluer dans un environnement challengeant et en transformation.\\n\\n\\tDoté (e) \\xa0d'un bon esprit d'analyse et de synthèse, vous êtes organisé (e), rigoureux dans votre approche et êtes doté(es) d'une aisance relationnelle.\\n\\nLa maitrise de l'anglais est obligatoire.\",\n",
              " \"Adresse :\\n131 boulevard d'anfa, Résidence Azur, bureau 11B\",\n",
              " '30/12/2021',\n",
              " \"Recherche de nouveauté, Implication au travail, Besoin d'autonomie, Extraversion, Besoin d'objectivité, \",\n",
              " \"Secteur d'activité : BTP / Génie Civil\",\n",
              " 'RH / Personnel / FormationRH / Personnel / Formation',\n",
              " 'De 5 à 10 ans',\n",
              " 'Bac +5 et plus',\n",
              " 'CDI')"
            ]
          },
          "metadata": {},
          "execution_count": 66
        }
      ],
      "source": [
        "get_record(card)"
      ]
    },
    {
      "cell_type": "code",
      "execution_count": null,
      "metadata": {
        "id": "hf2cQaSaFYbJ"
      },
      "outputs": [],
      "source": [
        "records = []\n",
        "\n",
        "for card in cards:\n",
        "    record = get_record(card)\n",
        "    if record == '':\n",
        "        continue\n",
        "    records.append(record)"
      ]
    },
    {
      "cell_type": "code",
      "execution_count": null,
      "metadata": {
        "colab": {
          "base_uri": "https://localhost:8080/"
        },
        "id": "Sy2eX7BdFdEk",
        "outputId": "c6e7e780-adbf-4a85-9766-10b718be3f51"
      },
      "outputs": [
        {
          "output_type": "execute_result",
          "data": {
            "text/plain": [
              "8"
            ]
          },
          "metadata": {},
          "execution_count": 68
        }
      ],
      "source": [
        "len(records)"
      ]
    },
    {
      "cell_type": "markdown",
      "metadata": {
        "id": "IhSMHeHAFpnR"
      },
      "source": [
        "Get the next pages"
      ]
    },
    {
      "cell_type": "code",
      "execution_count": null,
      "metadata": {
        "id": "XCKB4jmTFnLm"
      },
      "outputs": [],
      "source": [
        "records = []\n",
        "while True:\n",
        "  try:\n",
        "    url = 'https://www.rekrute.com/' + soup.find('a','next').get('href')\n",
        "  except AttributeError:\n",
        "    break\n",
        "  response = requests.get(url)\n",
        "  soup = BeautifulSoup(response.text, 'html.parser')\n",
        "  cards = soup.find_all('li', 'post-id')\n",
        "  for card in cards:\n",
        "    record = get_record(card)\n",
        "    if record == '':\n",
        "        continue\n",
        "    records.append(record)"
      ]
    },
    {
      "cell_type": "code",
      "execution_count": null,
      "metadata": {
        "colab": {
          "base_uri": "https://localhost:8080/"
        },
        "id": "clZU4ZFMGKz0",
        "outputId": "3c86d959-47bf-42dc-911f-d9bb66024dc3"
      },
      "outputs": [
        {
          "output_type": "execute_result",
          "data": {
            "text/plain": [
              "1309"
            ]
          },
          "metadata": {},
          "execution_count": 81
        }
      ],
      "source": [
        "len(records)"
      ]
    },
    {
      "cell_type": "code",
      "source": [
        "rekrute_data = pd.DataFrame(records, columns=['JobTitle', 'CompanyName', 'Location', 'Company', 'JobSummary', 'Profile', 'adress', 'PostDate', 'Skills', 'Sectors', 'Function', 'Experience', 'StudyLevel', 'ContractType'])"
      ],
      "metadata": {
        "id": "NdvrREtiJCMB"
      },
      "execution_count": null,
      "outputs": []
    },
    {
      "cell_type": "code",
      "source": [
        "rekrute_data"
      ],
      "metadata": {
        "colab": {
          "base_uri": "https://localhost:8080/",
          "height": 1000
        },
        "id": "nSIIIxeKJLHF",
        "outputId": "f0eceb0d-709b-48ac-afa9-69a50ae0bdea"
      },
      "execution_count": null,
      "outputs": [
        {
          "output_type": "execute_result",
          "data": {
            "text/html": [
              "\n",
              "  <div id=\"df-19d770ee-f540-4781-b12a-97e4eba7c1b7\">\n",
              "    <div class=\"colab-df-container\">\n",
              "      <div>\n",
              "<style scoped>\n",
              "    .dataframe tbody tr th:only-of-type {\n",
              "        vertical-align: middle;\n",
              "    }\n",
              "\n",
              "    .dataframe tbody tr th {\n",
              "        vertical-align: top;\n",
              "    }\n",
              "\n",
              "    .dataframe thead th {\n",
              "        text-align: right;\n",
              "    }\n",
              "</style>\n",
              "<table border=\"1\" class=\"dataframe\">\n",
              "  <thead>\n",
              "    <tr style=\"text-align: right;\">\n",
              "      <th></th>\n",
              "      <th>JobTitle</th>\n",
              "      <th>CompanyName</th>\n",
              "      <th>Location</th>\n",
              "      <th>Company</th>\n",
              "      <th>JobSummary</th>\n",
              "      <th>Profile</th>\n",
              "      <th>adress</th>\n",
              "      <th>PostDate</th>\n",
              "      <th>Skills</th>\n",
              "      <th>Sectors</th>\n",
              "      <th>Function</th>\n",
              "      <th>Experience</th>\n",
              "      <th>StudyLevel</th>\n",
              "      <th>ContractType</th>\n",
              "    </tr>\n",
              "  </thead>\n",
              "  <tbody>\n",
              "    <tr>\n",
              "      <th>0</th>\n",
              "      <td>Superviseur nettoyage - Rabat | RABAT (Maroc)</td>\n",
              "      <td>Université Mohammed VI Polytechnique</td>\n",
              "      <td>Casablanca et région                          ...</td>\n",
              "      <td>Entreprise :\\nMohammed VI Polytechnic Universi...</td>\n",
              "      <td>Poste :\\nDans le cadre du développement de ses...</td>\n",
              "      <td>Profil recherché :\\nCompétences Très bon nivea...</td>\n",
              "      <td>Adresse :\\nLot 660, Hay Moulay Rachid, Ben Gue...</td>\n",
              "      <td>28/12/2021</td>\n",
              "      <td>Implication au travail, Besoin d'action, Respe...</td>\n",
              "      <td>Secteur d'activité : Autres services</td>\n",
              "      <td>Logistique / Transport (métiers de)</td>\n",
              "      <td>De 3 à 5 ans</td>\n",
              "      <td>Bac +5 et plus</td>\n",
              "      <td>CDI</td>\n",
              "    </tr>\n",
              "    <tr>\n",
              "      <th>1</th>\n",
              "      <td>Responsable magasin et PME -Rabat | RABAT (Maroc)</td>\n",
              "      <td>Université Mohammed VI Polytechnique</td>\n",
              "      <td>Casablanca et région                          ...</td>\n",
              "      <td>Entreprise :\\nMohammed VI Polytechnic Universi...</td>\n",
              "      <td>Poste :\\nDans le cadre du développement de ses...</td>\n",
              "      <td>Profil recherché :\\nCompétences Très bon nivea...</td>\n",
              "      <td>Adresse :\\nLot 660, Hay Moulay Rachid, Ben Gue...</td>\n",
              "      <td>28/12/2021</td>\n",
              "      <td>Implication au travail, Besoin d'action, Respe...</td>\n",
              "      <td>Secteur d'activité : Autres services</td>\n",
              "      <td>Logistique / Transport (métiers de)</td>\n",
              "      <td>De 3 à 5 ans</td>\n",
              "      <td>Bac +5 et plus</td>\n",
              "      <td>CDI</td>\n",
              "    </tr>\n",
              "    <tr>\n",
              "      <th>2</th>\n",
              "      <td>Gouvernant(e) | RABAT (Maroc)</td>\n",
              "      <td>Université Mohammed VI Polytechnique</td>\n",
              "      <td>Casablanca et région                          ...</td>\n",
              "      <td>Entreprise :\\nMohammed VI Polytechnic Universi...</td>\n",
              "      <td>Poste :\\nDans le cadre du développement de ses...</td>\n",
              "      <td>Profil recherché :\\n Compétences   Encadrer de...</td>\n",
              "      <td>Adresse :\\nLot 660, Hay Moulay Rachid, Ben Gue...</td>\n",
              "      <td>28/12/2021</td>\n",
              "      <td>Implication au travail, Besoin d'action, Respe...</td>\n",
              "      <td>Secteur d'activité : Autres services</td>\n",
              "      <td>Logistique / Transport (métiers de)</td>\n",
              "      <td>De 3 à 5 ans</td>\n",
              "      <td>Bac +5 et plus</td>\n",
              "      <td>CDI</td>\n",
              "    </tr>\n",
              "    <tr>\n",
              "      <th>3</th>\n",
              "      <td>Management control | RABAT (Maroc)</td>\n",
              "      <td>Université Mohammed VI Polytechnique</td>\n",
              "      <td>Casablanca et région                          ...</td>\n",
              "      <td>Entreprise :\\nMohammed VI Polytechnic Universi...</td>\n",
              "      <td>Poste :\\nDans le cadre du développement de ses...</td>\n",
              "      <td>Profil recherché :\\n Compétences techniques  A...</td>\n",
              "      <td>Adresse :\\nLot 660, Hay Moulay Rachid, Ben Gue...</td>\n",
              "      <td>28/12/2021</td>\n",
              "      <td>Implication au travail, Besoin d'action, Respe...</td>\n",
              "      <td>Secteur d'activité : Autres services</td>\n",
              "      <td>Logistique / Transport (métiers de)</td>\n",
              "      <td>De 3 à 5 ans</td>\n",
              "      <td>Bac +5 et plus</td>\n",
              "      <td>CDI</td>\n",
              "    </tr>\n",
              "    <tr>\n",
              "      <th>4</th>\n",
              "      <td>Coordinateur Facility Management | BENGUERIR (...</td>\n",
              "      <td>Université Mohammed VI Polytechnique</td>\n",
              "      <td>Casablanca et région                          ...</td>\n",
              "      <td>Entreprise :\\nMohammed VI Polytechnic Universi...</td>\n",
              "      <td>Poste :\\nDans le cadre du développement de ses...</td>\n",
              "      <td>Profil recherché :\\nAccessible avec Un Bac+5 e...</td>\n",
              "      <td>Adresse :\\nLot 660, Hay Moulay Rachid, Ben Gue...</td>\n",
              "      <td>28/12/2021</td>\n",
              "      <td>Implication au travail, Besoin d'action, Respe...</td>\n",
              "      <td>Secteur d'activité : Autres services</td>\n",
              "      <td>Logistique / Transport (métiers de)</td>\n",
              "      <td>De 3 à 5 ans</td>\n",
              "      <td>Bac +5 et plus</td>\n",
              "      <td>CDI</td>\n",
              "    </tr>\n",
              "    <tr>\n",
              "      <th>...</th>\n",
              "      <td>...</td>\n",
              "      <td>...</td>\n",
              "      <td>...</td>\n",
              "      <td>...</td>\n",
              "      <td>...</td>\n",
              "      <td>...</td>\n",
              "      <td>...</td>\n",
              "      <td>...</td>\n",
              "      <td>...</td>\n",
              "      <td>...</td>\n",
              "      <td>...</td>\n",
              "      <td>...</td>\n",
              "      <td>...</td>\n",
              "      <td>...</td>\n",
              "    </tr>\n",
              "    <tr>\n",
              "      <th>1304</th>\n",
              "      <td>Chargé(e) de Recouvrement - Anglophone | Casab...</td>\n",
              "      <td>Maroc Climate and Security (MCS) - Carrier</td>\n",
              "      <td>Casablanca et région                          ...</td>\n",
              "      <td>Entreprise :\\n\\n\\tC’est en 1902 que le Dr Will...</td>\n",
              "      <td>Poste :\\n\\n\\tActuellement, on recrute pour le ...</td>\n",
              "      <td>Profil recherché :\\n\\n\\tDe formation :\\n\\t-Bac...</td>\n",
              "      <td>Adresse :\\nImmeuble LA COMANAV, 7 Boulevard la...</td>\n",
              "      <td>01/11/2021</td>\n",
              "      <td>Organisation, Besoin de réflexion, Flexibilité...</td>\n",
              "      <td>Secteur d'activité : Autres services</td>\n",
              "      <td>Call Centers (métiers de)Avocat / Juriste / Fi...</td>\n",
              "      <td>De 1 à 3 ans</td>\n",
              "      <td>Bac +5 et plus</td>\n",
              "      <td>CDD</td>\n",
              "    </tr>\n",
              "    <tr>\n",
              "      <th>1305</th>\n",
              "      <td>Coordinateur Qualité Produit | AGADIR (Maroc)</td>\n",
              "      <td></td>\n",
              "      <td>Casablanca et région                          ...</td>\n",
              "      <td>Entreprise :\\n\\n\\tLeader dans notre secteur (E...</td>\n",
              "      <td>Poste :\\n\\n\\n\\t\\tEffectue les vérifications et...</td>\n",
              "      <td>Profil recherché :\\n\\n\\n\\t\\tFormation qualifia...</td>\n",
              "      <td>Traits de personnalité souhaités :\\n\\n\\r\\n    ...</td>\n",
              "      <td>01/11/2021</td>\n",
              "      <td>Respect des règles, Rationalisme, Travail en é...</td>\n",
              "      <td>Secteur d'activité : Autres services</td>\n",
              "      <td>Production / Qualité / Sécurité / MaintenanceP...</td>\n",
              "      <td>De 1 à 3 ans</td>\n",
              "      <td>Bac +5 et plus</td>\n",
              "      <td>CDI</td>\n",
              "    </tr>\n",
              "    <tr>\n",
              "      <th>1306</th>\n",
              "      <td>Animateur HSE | El Jadida (Maroc)</td>\n",
              "      <td>Meski Invest - Riva Industries</td>\n",
              "      <td>Casablanca et région                          ...</td>\n",
              "      <td>Entreprise :\\n\\n\\tRiva industrie complexe sidé...</td>\n",
              "      <td>Poste :\\n\\n\\tNous recrutons des animateurs HSE...</td>\n",
              "      <td>Profil recherché :\\n\\n\\tDe formation  HSE   av...</td>\n",
              "      <td>Adresse :\\nRésidence Marina Center 1, Angle Bo...</td>\n",
              "      <td>31/10/2021</td>\n",
              "      <td>Respect des règles, Rationalisme, Ténacité, Be...</td>\n",
              "      <td>Secteur d'activité : Métallurgie / Sidérurgie</td>\n",
              "      <td>Production / Qualité / Sécurité / MaintenanceP...</td>\n",
              "      <td>De 1 à 3 ans</td>\n",
              "      <td>Bac +5 et plus</td>\n",
              "      <td>CDI</td>\n",
              "    </tr>\n",
              "    <tr>\n",
              "      <th>1307</th>\n",
              "      <td>Comptable Confirmé | El Jadida (Maroc)</td>\n",
              "      <td>Meski Invest - Riva Industries</td>\n",
              "      <td>Casablanca et région                          ...</td>\n",
              "      <td>Entreprise :\\n\\n\\tFort d’une expérience terrai...</td>\n",
              "      <td>Poste :\\n\\n\\tRattaché(e) au Directeur Administ...</td>\n",
              "      <td>Profil recherché :\\n\\n\\tDe formation Bac +3 av...</td>\n",
              "      <td>Adresse :\\nRésidence Marina Center 1, Angle Bo...</td>\n",
              "      <td>31/10/2021</td>\n",
              "      <td>Respect des règles, Rationalisme, Conventionne...</td>\n",
              "      <td>Secteur d'activité : Comptabilité / Audit</td>\n",
              "      <td>Gestion / Comptabilité / Finance</td>\n",
              "      <td>De 3 à 5 ans</td>\n",
              "      <td>Bac +5 et plus</td>\n",
              "      <td>CDI</td>\n",
              "    </tr>\n",
              "    <tr>\n",
              "      <th>1308</th>\n",
              "      <td>Superviseur Rh de proximité | El Jadida (Maroc)</td>\n",
              "      <td>Meski Invest - Riva Industries</td>\n",
              "      <td>Casablanca et région                          ...</td>\n",
              "      <td>Entreprise :\\n\\n\\tFort d’une expérience terrai...</td>\n",
              "      <td>Poste :\\n\\n\\tAu sein du département Ressources...</td>\n",
              "      <td>Profil recherché :\\n\\n\\tProfil recherché :\\n\\t...</td>\n",
              "      <td>Adresse :\\nRésidence Marina Center 1, Angle Bo...</td>\n",
              "      <td>31/10/2021</td>\n",
              "      <td>Recherche de nouveauté, Extraversion, Besoin d...</td>\n",
              "      <td>Secteur d'activité : Métallurgie / Sidérurgie</td>\n",
              "      <td>RH / Personnel / Formation</td>\n",
              "      <td>De 3 à 5 ans</td>\n",
              "      <td>Bac +5 et plus</td>\n",
              "      <td>CDI</td>\n",
              "    </tr>\n",
              "  </tbody>\n",
              "</table>\n",
              "<p>1309 rows × 14 columns</p>\n",
              "</div>\n",
              "      <button class=\"colab-df-convert\" onclick=\"convertToInteractive('df-19d770ee-f540-4781-b12a-97e4eba7c1b7')\"\n",
              "              title=\"Convert this dataframe to an interactive table.\"\n",
              "              style=\"display:none;\">\n",
              "        \n",
              "  <svg xmlns=\"http://www.w3.org/2000/svg\" height=\"24px\"viewBox=\"0 0 24 24\"\n",
              "       width=\"24px\">\n",
              "    <path d=\"M0 0h24v24H0V0z\" fill=\"none\"/>\n",
              "    <path d=\"M18.56 5.44l.94 2.06.94-2.06 2.06-.94-2.06-.94-.94-2.06-.94 2.06-2.06.94zm-11 1L8.5 8.5l.94-2.06 2.06-.94-2.06-.94L8.5 2.5l-.94 2.06-2.06.94zm10 10l.94 2.06.94-2.06 2.06-.94-2.06-.94-.94-2.06-.94 2.06-2.06.94z\"/><path d=\"M17.41 7.96l-1.37-1.37c-.4-.4-.92-.59-1.43-.59-.52 0-1.04.2-1.43.59L10.3 9.45l-7.72 7.72c-.78.78-.78 2.05 0 2.83L4 21.41c.39.39.9.59 1.41.59.51 0 1.02-.2 1.41-.59l7.78-7.78 2.81-2.81c.8-.78.8-2.07 0-2.86zM5.41 20L4 18.59l7.72-7.72 1.47 1.35L5.41 20z\"/>\n",
              "  </svg>\n",
              "      </button>\n",
              "      \n",
              "  <style>\n",
              "    .colab-df-container {\n",
              "      display:flex;\n",
              "      flex-wrap:wrap;\n",
              "      gap: 12px;\n",
              "    }\n",
              "\n",
              "    .colab-df-convert {\n",
              "      background-color: #E8F0FE;\n",
              "      border: none;\n",
              "      border-radius: 50%;\n",
              "      cursor: pointer;\n",
              "      display: none;\n",
              "      fill: #1967D2;\n",
              "      height: 32px;\n",
              "      padding: 0 0 0 0;\n",
              "      width: 32px;\n",
              "    }\n",
              "\n",
              "    .colab-df-convert:hover {\n",
              "      background-color: #E2EBFA;\n",
              "      box-shadow: 0px 1px 2px rgba(60, 64, 67, 0.3), 0px 1px 3px 1px rgba(60, 64, 67, 0.15);\n",
              "      fill: #174EA6;\n",
              "    }\n",
              "\n",
              "    [theme=dark] .colab-df-convert {\n",
              "      background-color: #3B4455;\n",
              "      fill: #D2E3FC;\n",
              "    }\n",
              "\n",
              "    [theme=dark] .colab-df-convert:hover {\n",
              "      background-color: #434B5C;\n",
              "      box-shadow: 0px 1px 3px 1px rgba(0, 0, 0, 0.15);\n",
              "      filter: drop-shadow(0px 1px 2px rgba(0, 0, 0, 0.3));\n",
              "      fill: #FFFFFF;\n",
              "    }\n",
              "  </style>\n",
              "\n",
              "      <script>\n",
              "        const buttonEl =\n",
              "          document.querySelector('#df-19d770ee-f540-4781-b12a-97e4eba7c1b7 button.colab-df-convert');\n",
              "        buttonEl.style.display =\n",
              "          google.colab.kernel.accessAllowed ? 'block' : 'none';\n",
              "\n",
              "        async function convertToInteractive(key) {\n",
              "          const element = document.querySelector('#df-19d770ee-f540-4781-b12a-97e4eba7c1b7');\n",
              "          const dataTable =\n",
              "            await google.colab.kernel.invokeFunction('convertToInteractive',\n",
              "                                                     [key], {});\n",
              "          if (!dataTable) return;\n",
              "\n",
              "          const docLinkHtml = 'Like what you see? Visit the ' +\n",
              "            '<a target=\"_blank\" href=https://colab.research.google.com/notebooks/data_table.ipynb>data table notebook</a>'\n",
              "            + ' to learn more about interactive tables.';\n",
              "          element.innerHTML = '';\n",
              "          dataTable['output_type'] = 'display_data';\n",
              "          await google.colab.output.renderOutput(dataTable, element);\n",
              "          const docLink = document.createElement('div');\n",
              "          docLink.innerHTML = docLinkHtml;\n",
              "          element.appendChild(docLink);\n",
              "        }\n",
              "      </script>\n",
              "    </div>\n",
              "  </div>\n",
              "  "
            ],
            "text/plain": [
              "                                               JobTitle  ... ContractType\n",
              "0         Superviseur nettoyage - Rabat | RABAT (Maroc)  ...          CDI\n",
              "1     Responsable magasin et PME -Rabat | RABAT (Maroc)  ...          CDI\n",
              "2                         Gouvernant(e) | RABAT (Maroc)  ...          CDI\n",
              "3                    Management control | RABAT (Maroc)  ...          CDI\n",
              "4     Coordinateur Facility Management | BENGUERIR (...  ...          CDI\n",
              "...                                                 ...  ...          ...\n",
              "1304  Chargé(e) de Recouvrement - Anglophone | Casab...  ...          CDD\n",
              "1305      Coordinateur Qualité Produit | AGADIR (Maroc)  ...          CDI\n",
              "1306                  Animateur HSE | El Jadida (Maroc)  ...          CDI\n",
              "1307             Comptable Confirmé | El Jadida (Maroc)  ...          CDI\n",
              "1308    Superviseur Rh de proximité | El Jadida (Maroc)  ...          CDI\n",
              "\n",
              "[1309 rows x 14 columns]"
            ]
          },
          "metadata": {},
          "execution_count": 86
        }
      ]
    },
    {
      "cell_type": "code",
      "source": [
        "rekrute_data.to_csv('rekrute_data.csv')"
      ],
      "metadata": {
        "id": "BrmZA0i0KooK"
      },
      "execution_count": null,
      "outputs": []
    }
  ],
  "metadata": {
    "colab": {
      "name": "scraping_rekrute.ipynb",
      "provenance": [],
      "collapsed_sections": []
    },
    "kernelspec": {
      "display_name": "Python 3",
      "language": "python",
      "name": "python3"
    },
    "language_info": {
      "codemirror_mode": {
        "name": "ipython",
        "version": 3
      },
      "file_extension": ".py",
      "mimetype": "text/x-python",
      "name": "python",
      "nbconvert_exporter": "python",
      "pygments_lexer": "ipython3",
      "version": "3.8.5"
    }
  },
  "nbformat": 4,
  "nbformat_minor": 0
}